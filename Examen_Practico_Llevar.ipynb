{
 "cells": [
  {
   "cell_type": "markdown",
   "metadata": {},
   "source": [
    "# Minería de Datos - Otoño 2018\n",
    "\n",
    "## Primer Parcial (para llevar)\n",
    "\n",
    "### Instrucciones de entrega \n",
    "\n",
    "Si elegiste esta versión del examen, se debe enviar un correo a `isimoninw@gmail.com` con este notebook a más tardar a las 11:59 pm del domingo 14 de octubre. Si se recibe el correo después de esta hora no se contará, así que es mejor enviar lo que se tenga antes de esta hora a intentar terminar.\n",
    "\n",
    "El asunto del correo debe ser:\n",
    "\"Examen - Clave Única - Nombre completo\"\n",
    "\n",
    "> Ejemplo:\n",
    "\n",
    "> Asunto: Examen - 100020 - Fulanito de Tal\n",
    "\n",
    "El **nombre** del archivo contenido en el correo debe tener el formato `claveunica_nombre_apellidos.ipynb`\n",
    "\n",
    "Cualquier desviación de estas indicaciones será motivo de disminución de puntaje.\n",
    "\n",
    "### ¿Cómo contestar?\n",
    "\n",
    "Siéntete libre de hacer más celdas cuando sean necesarias, pero intenta hacer el código/texto lo más legible posible.\n",
    "\n",
    "El resultado final de este notebook debe ser un reporte autocontenido y comprensible. Sé lo más claro posible en tus explicaciones y justificaciones."
   ]
  },
  {
   "cell_type": "markdown",
   "metadata": {},
   "source": [
    "### Los Datos\n",
    "\n",
    "Los datos usados durante este examen consisten en una colección de mensajes de texto (SMS) etiquetados como spam o no spam (ham).\n",
    "\n",
    "La diferencia entre la versión en clase y esta versión del examen es que se extraerán distintas variables del texto antes de contestar las preguntas.\n",
    "\n",
    "Por esto, en la carpeta datos/ encontrarás el archivo `spam.csv` con los datos crudos."
   ]
  },
  {
   "cell_type": "markdown",
   "metadata": {},
   "source": [
    "## Parte 1: Preprocesamiento\n",
    "\n",
    "Para esta parte, puedes usar como guía la documentación de sklearn para [trabajar con texto](http://scikit-learn.org/stable/tutorial/text_analytics/working_with_text_data.html).\n",
    "\n",
    "### 1.1 Separar en entrenamiento y prueba\n",
    "### 1.2 Crear un codificador de texto a matriz usando [Bag of Words](https://en.wikipedia.org/wiki/Bag-of-words_model) con los datos de entrenamiento\n",
    "### 1.3 Crear un codificador de texto a matriz usando [TF-IDF](https://en.wikipedia.org/wiki/Tf%E2%80%93idf) con los datos de entrenamiento\n",
    "### 1.4 Transformar los datos usando los codificadores, creando 4 matrices de variables: X_bow_train, X_bow_test, X_tfidf_train, X_tfidf_test\n",
    "### 1.5 ¿Por qué es importante crear los codificadores usando solo el conjunto de entrenamiento?"
   ]
  },
  {
   "cell_type": "markdown",
   "metadata": {},
   "source": [
    "### 1.6 ¿Las clases están balanceadas? ¿Cuál es la proporción de spam que hay en los datos?"
   ]
  },
  {
   "cell_type": "markdown",
   "metadata": {},
   "source": [
    "## Parte 2: Bag of Words"
   ]
  },
  {
   "cell_type": "markdown",
   "metadata": {},
   "source": [
    "### 2.1 Scikit-learn tiene los clasificadores Naive Bayes: MultinomialNB, BernoulliNB, and GaussianNB. ¿Cuál(es) podrían modelar estos datos y por qué?"
   ]
  },
  {
   "cell_type": "markdown",
   "metadata": {},
   "source": [
    "### 2.2 Entrena un modelo Naive Bayes (usando la versión de NB que te parezca adecuada) para clasificar si es o no spam un mensaje."
   ]
  },
  {
   "cell_type": "markdown",
   "metadata": {},
   "source": [
    "### 2.3 Entrena un Random Forest para clasificar si es o no spam un mensaje. Usa Cross Validation para optimizar al menos un hiperparámetro y muestra cuál es el mejor valor para ese parámetro."
   ]
  },
  {
   "cell_type": "markdown",
   "metadata": {},
   "source": [
    "## Parte 3: TF-IDF"
   ]
  },
  {
   "cell_type": "markdown",
   "metadata": {},
   "source": [
    "### 3.1 Intenta superar la predicción de Bag of Words usando los datos transformados a través de TF-IDF"
   ]
  },
  {
   "cell_type": "markdown",
   "metadata": {},
   "source": [
    "## Parte 4: Wrap-up"
   ]
  },
  {
   "cell_type": "markdown",
   "metadata": {},
   "source": [
    "### 2.4 ¿Cuál de todos los modelos es mejor? Muestra la curva ROC y el f1 score para justificar tu decisión."
   ]
  }
 ],
 "metadata": {
  "kernelspec": {
   "display_name": "Python 3",
   "language": "python",
   "name": "python3"
  },
  "language_info": {
   "codemirror_mode": {
    "name": "ipython",
    "version": 3
   },
   "file_extension": ".py",
   "mimetype": "text/x-python",
   "name": "python",
   "nbconvert_exporter": "python",
   "pygments_lexer": "ipython3",
   "version": "3.6.5"
  }
 },
 "nbformat": 4,
 "nbformat_minor": 2
}
