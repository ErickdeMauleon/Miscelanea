{
 "cells": [
  {
   "cell_type": "markdown",
   "metadata": {},
   "source": [
    "# Minería de Datos - Otoño 2018\n",
    "\n",
    "## Primer Parcial (en clase)\n",
    "\n",
    "### Instrucciones de entrega \n",
    "\n",
    "Si elegiste esta versión del examen, se debe enviar un correo a `isimoninw@gmail.com` con este notebook a más tardar a las 8:30 pm (del jueves 11 de octubre). Si se recibe el correo después de esta hora no se contará, así que es mejor enviar lo que se tenga antes de esta hora a intentar terminar.\n",
    "\n",
    "El asunto del correo debe ser:\n",
    "\"Examen - Clave Única - Nombre completo\"\n",
    "\n",
    "> Ejemplo:\n",
    "\n",
    "> Asunto: Examen - 100020 - Fulanito de Tal\n",
    "\n",
    "El **nombre** del archivo contenido en el correo debe tener el formato `claveunica_nombre_apellidos.ipynb`\n",
    "\n",
    "Cualquier desviación de estas indicaciones será motivo de disminución de puntaje.\n",
    "\n",
    "### ¿Cómo contestar?\n",
    "\n",
    "Siéntete libre de hacer más celdas cuando sean necesarias, pero intenta hacer el código/texto lo más legible posible."
   ]
  },
  {
   "cell_type": "markdown",
   "metadata": {},
   "source": [
    "### Los Datos\n",
    "\n",
    "Los datos usados durante este examen consisten en una colección de mensajes de texto (SMS) etiquetados como spam o no spam (ham).\n",
    "\n",
    "La estructura está construida con un Bag of Words (simplemente contar palabras aparecidas en el texto). Únicamente se tienen 100 palabras y cada renglón representa un mensaje.\n",
    "\n",
    "Ya se dan los conjuntos de entrenamiento (X_train, y_train) y de prueba (X_test, y_test) para propósitos del examen.\n",
    "\n",
    "Si se requiere más contexto, es una versión procesada de [SMS Spam Collection](http://archive.ics.uci.edu/ml/datasets/SMS+Spam+Collection)."
   ]
  },
  {
   "cell_type": "code",
   "execution_count": 1,
   "metadata": {
    "ExecuteTime": {
     "end_time": "2018-10-11T06:24:07.229002Z",
     "start_time": "2018-10-11T06:24:07.221994Z"
    }
   },
   "outputs": [],
   "source": [
    "import pandas as pd\n",
    "import numpy as np\n",
    "from sklearn.naive_bayes import MultinomialNB\n",
    "from sklearn.metrics import confusion_matrix\n",
    "from sklearn.model_selection import GridSearchCV\n",
    "from sklearn.ensemble import RandomForestClassifier"
   ]
  },
  {
   "cell_type": "code",
   "execution_count": 30,
   "metadata": {
    "ExecuteTime": {
     "end_time": "2018-10-11T06:24:50.057602Z",
     "start_time": "2018-10-11T06:24:50.012251Z"
    }
   },
   "outputs": [
    {
     "name": "stdout",
     "output_type": "stream",
     "text": [
      "Tabla\t\tRenglones\n",
      "--------------------------\n",
      "X_train\t\t3900\n",
      "y_train\t\t3899\n",
      "X_test\t\t1672\n",
      "y_test\t\t1671\n"
     ]
    }
   ],
   "source": [
    "X_train = pd.read_csv('X_train.csv')\n",
    "y_train = pd.read_csv('y_train.csv')\n",
    "\n",
    "X_test = pd.read_csv('X_test.csv')\n",
    "y_test = pd.read_csv('y_test.csv')\n",
    "print(\"Tabla\\t\\tRenglones\")\n",
    "print(\"--------------------------\")\n",
    "print(\"X_train\\t\\t\"+str(X_train.shape[0]))\n",
    "print(\"y_train\\t\\t\"+str(y_train.shape[0]))\n",
    "print(\"X_test\\t\\t\"+str(X_test.shape[0]))\n",
    "print(\"y_test\\t\\t\"+str(y_test.shape[0]))"
   ]
  },
  {
   "cell_type": "markdown",
   "metadata": {},
   "source": [
    "Los tamaños no son consistentes, por tanto suponiendo que los primeros 3,899 y 1,671 renglones coinciden, borraré el último renglón"
   ]
  },
  {
   "cell_type": "code",
   "execution_count": 31,
   "metadata": {},
   "outputs": [],
   "source": [
    "X_test = X_test.drop(X_test.index[1671])\n",
    "X_train = X_train.drop(X_train.index[3899])\n"
   ]
  },
  {
   "cell_type": "markdown",
   "metadata": {
    "ExecuteTime": {
     "end_time": "2018-10-11T05:51:37.809140Z",
     "start_time": "2018-10-11T05:51:37.784425Z"
    }
   },
   "source": [
    "## Preguntas"
   ]
  },
  {
   "cell_type": "markdown",
   "metadata": {
    "ExecuteTime": {
     "end_time": "2018-10-11T05:52:10.751694Z",
     "start_time": "2018-10-11T05:52:10.053705Z"
    }
   },
   "source": [
    "### 1. ¿Las clases están balanceadas? ¿Cuál es la proporción de spam que hay en los datos?"
   ]
  },
  {
   "cell_type": "code",
   "execution_count": 32,
   "metadata": {},
   "outputs": [
    {
     "name": "stdout",
     "output_type": "stream",
     "text": [
      "Conjunto de prueba:: 0.14\n",
      "Conjunto de entren:: 0.13\n"
     ]
    },
    {
     "ename": "ValueError",
     "evalue": "The truth value of a Series is ambiguous. Use a.empty, a.bool(), a.item(), a.any() or a.all().",
     "output_type": "error",
     "traceback": [
      "\u001b[1;31m---------------------------------------------------------------------------\u001b[0m",
      "\u001b[1;31mValueError\u001b[0m                                Traceback (most recent call last)",
      "\u001b[1;32m<ipython-input-32-6cd7e5abbfa0>\u001b[0m in \u001b[0;36m<module>\u001b[1;34m()\u001b[0m\n\u001b[0;32m     14\u001b[0m             \u001b[0mX_train\u001b[0m\u001b[1;33m.\u001b[0m\u001b[1;33m\u001b[0m\u001b[0m\n\u001b[0;32m     15\u001b[0m             \u001b[0mquery\u001b[0m\u001b[1;33m(\u001b[0m\u001b[1;34m\"target == 1\"\u001b[0m\u001b[1;33m)\u001b[0m\u001b[1;33m.\u001b[0m\u001b[1;33m\u001b[0m\u001b[0m\n\u001b[1;32m---> 16\u001b[1;33m             \u001b[0mappend\u001b[0m\u001b[1;33m(\u001b[0m\u001b[0mX_test\u001b[0m\u001b[1;33m.\u001b[0m\u001b[0mquery\u001b[0m\u001b[1;33m(\u001b[0m\u001b[1;34m\"target == 0\"\u001b[0m\u001b[1;33m)\u001b[0m\u001b[1;33m.\u001b[0m\u001b[0msample\u001b[0m\u001b[1;33m(\u001b[0m\u001b[0my_train\u001b[0m\u001b[1;33m)\u001b[0m\u001b[1;33m)\u001b[0m\u001b[1;33m\u001b[0m\u001b[0m\n\u001b[0m\u001b[0;32m     17\u001b[0m )\n",
      "\u001b[1;32mC:\\ProgramData\\Anaconda3\\lib\\site-packages\\pandas\\core\\generic.py\u001b[0m in \u001b[0;36msample\u001b[1;34m(self, n, frac, replace, weights, random_state, axis)\u001b[0m\n\u001b[0;32m   4182\u001b[0m         \u001b[1;32mif\u001b[0m \u001b[0mn\u001b[0m \u001b[1;32mis\u001b[0m \u001b[1;32mNone\u001b[0m \u001b[1;32mand\u001b[0m \u001b[0mfrac\u001b[0m \u001b[1;32mis\u001b[0m \u001b[1;32mNone\u001b[0m\u001b[1;33m:\u001b[0m\u001b[1;33m\u001b[0m\u001b[0m\n\u001b[0;32m   4183\u001b[0m             \u001b[0mn\u001b[0m \u001b[1;33m=\u001b[0m \u001b[1;36m1\u001b[0m\u001b[1;33m\u001b[0m\u001b[0m\n\u001b[1;32m-> 4184\u001b[1;33m         \u001b[1;32melif\u001b[0m \u001b[0mn\u001b[0m \u001b[1;32mis\u001b[0m \u001b[1;32mnot\u001b[0m \u001b[1;32mNone\u001b[0m \u001b[1;32mand\u001b[0m \u001b[0mfrac\u001b[0m \u001b[1;32mis\u001b[0m \u001b[1;32mNone\u001b[0m \u001b[1;32mand\u001b[0m \u001b[0mn\u001b[0m \u001b[1;33m%\u001b[0m \u001b[1;36m1\u001b[0m \u001b[1;33m!=\u001b[0m \u001b[1;36m0\u001b[0m\u001b[1;33m:\u001b[0m\u001b[1;33m\u001b[0m\u001b[0m\n\u001b[0m\u001b[0;32m   4185\u001b[0m             \u001b[1;32mraise\u001b[0m \u001b[0mValueError\u001b[0m\u001b[1;33m(\u001b[0m\u001b[1;34m\"Only integers accepted as `n` values\"\u001b[0m\u001b[1;33m)\u001b[0m\u001b[1;33m\u001b[0m\u001b[0m\n\u001b[0;32m   4186\u001b[0m         \u001b[1;32melif\u001b[0m \u001b[0mn\u001b[0m \u001b[1;32mis\u001b[0m \u001b[1;32mNone\u001b[0m \u001b[1;32mand\u001b[0m \u001b[0mfrac\u001b[0m \u001b[1;32mis\u001b[0m \u001b[1;32mnot\u001b[0m \u001b[1;32mNone\u001b[0m\u001b[1;33m:\u001b[0m\u001b[1;33m\u001b[0m\u001b[0m\n",
      "\u001b[1;32mC:\\ProgramData\\Anaconda3\\lib\\site-packages\\pandas\\core\\generic.py\u001b[0m in \u001b[0;36m__nonzero__\u001b[1;34m(self)\u001b[0m\n\u001b[0;32m   1571\u001b[0m         raise ValueError(\"The truth value of a {0} is ambiguous. \"\n\u001b[0;32m   1572\u001b[0m                          \u001b[1;34m\"Use a.empty, a.bool(), a.item(), a.any() or a.all().\"\u001b[0m\u001b[1;33m\u001b[0m\u001b[0m\n\u001b[1;32m-> 1573\u001b[1;33m                          .format(self.__class__.__name__))\n\u001b[0m\u001b[0;32m   1574\u001b[0m \u001b[1;33m\u001b[0m\u001b[0m\n\u001b[0;32m   1575\u001b[0m     \u001b[0m__bool__\u001b[0m \u001b[1;33m=\u001b[0m \u001b[0m__nonzero__\u001b[0m\u001b[1;33m\u001b[0m\u001b[0m\n",
      "\u001b[1;31mValueError\u001b[0m: The truth value of a Series is ambiguous. Use a.empty, a.bool(), a.item(), a.any() or a.all()."
     ]
    }
   ],
   "source": [
    "X_train['spam'] = y_train.spam\n",
    "X_test['ham'] = y_test.ham\n",
    "\n",
    "X_train = X_train.merge(pd.DataFrame({'spam': ['spam', 'ham'], 'target': [1, 0]})).drop('spam',axis = 1)\n",
    "X_test = X_test.merge(pd.DataFrame({'ham': ['spam', 'ham'], 'target': [1, 0]})).drop('ham',axis = 1)\n",
    "\n",
    "X_train.columns\n",
    "y_train = X_train['target']\n",
    "y_test = X_test['target']\n",
    "print('Conjunto de prueba:: ' + \"%0.2f\" % np.mean(y_train))\n",
    "print(f'Conjunto de entren:: ' + \"%0.2f\" % np.mean(y_test))\n",
    "sum(y_train)\n",
    "X_train = (\n",
    "            X_train.\n",
    "            query(\"target == 1\").\n",
    "            append(X_test.query(\"target == 0\").sample(y_train))\n",
    ")"
   ]
  },
  {
   "cell_type": "markdown",
   "metadata": {},
   "source": [
    "No están balanceadas, voy a balancear el de prueba"
   ]
  },
  {
   "cell_type": "code",
   "execution_count": null,
   "metadata": {},
   "outputs": [],
   "source": []
  },
  {
   "cell_type": "markdown",
   "metadata": {},
   "source": [
    "### 2. Scikit-learn tiene los clasificadores Naive Bayes: MultinomialNB, BernoulliNB, and GaussianNB. ¿Cuál(es) podrían modelar estos datos y por qué?"
   ]
  },
  {
   "cell_type": "code",
   "execution_count": null,
   "metadata": {},
   "outputs": [],
   "source": [
    "X_train.sample(10)"
   ]
  },
  {
   "cell_type": "markdown",
   "metadata": {},
   "source": [
    "Un modelo de Naïve Bayes Multinomial podría modelar los datos pues los datos son variables que cuentan número de ocurrencias"
   ]
  },
  {
   "cell_type": "markdown",
   "metadata": {},
   "source": [
    "### 3. Entrena un modelo Naive Bayes (usando la versión de NB que te parezca adecuada) para clasificar si es o no spam un mensaje."
   ]
  },
  {
   "cell_type": "code",
   "execution_count": null,
   "metadata": {},
   "outputs": [],
   "source": [
    "nb = MultinomialNB(fit_prior=False).fit(X_train, y_train)"
   ]
  },
  {
   "cell_type": "markdown",
   "metadata": {},
   "source": [
    "### 4. Entrena un Random Forest para clasificar si es o no spam un mensaje. Usa Cross Validation para optimizar al menos un hiperparámetro y muestra cuál es el mejor valor para ese parámetro."
   ]
  },
  {
   "cell_type": "code",
   "execution_count": null,
   "metadata": {},
   "outputs": [],
   "source": [
    "grid_parametros = {'n_estimators': [50, 75, 100, 125, 150]}\n",
    "\n",
    "rf_cv = GridSearchCV(RandomForestClassifier(), grid_parametros,\n",
    "                    verbose=10, n_jobs=-1, scoring='f1_micro')\n",
    "\n",
    "rf_cv.fit(X_train, y_train)"
   ]
  },
  {
   "cell_type": "markdown",
   "metadata": {},
   "source": [
    "### 5. ¿Cuál de los dos modelos es mejor? Usa al menos 2 métricas para justificar."
   ]
  },
  {
   "cell_type": "code",
   "execution_count": null,
   "metadata": {},
   "outputs": [],
   "source": [
    "y_test['pred_rf'] = rf_cv.predict(X_test)\n",
    "y_test['pred_nb'] = nb.predict(X_test)\n",
    "rf_cm = confusion_matrix(y_test.target, y_test.pred_rf)\n",
    "nb_cm = confusion_matrix(y_test.target,  y_test.pred_nb)"
   ]
  },
  {
   "cell_type": "code",
   "execution_count": null,
   "metadata": {},
   "outputs": [],
   "source": []
  },
  {
   "cell_type": "code",
   "execution_count": null,
   "metadata": {},
   "outputs": [],
   "source": [
    "TP = rf_cm[1][1]\n",
    "TN = rf_cm[0][0]\n",
    "FP = rf_cm[0][1]\n",
    "FN = rf_cm[1][0]\n",
    "\n",
    "precision_rf = TP / (TP + FP)\n",
    "recall_rf = TP / (TP + FN)\n",
    "f1_score_rf =precision_rf * recall_rf / (precision_rf + recall_rf)\n",
    "\n",
    "\n",
    "TP = nb_cm[1][1]\n",
    "TN = nb_cm[0][0]\n",
    "FP = nb_cm[0][1]\n",
    "FN = nb_cm[1][0]\n",
    "\n",
    "precision_nb = TP / (TP + FP)\n",
    "recall_nb = TP / (TP + FN)\n",
    "f1_score_nb =precision_nb * recall_nb / (precision_nb + recall_nb)\n",
    "\n",
    "print('Métrica\\t\\tRandom_Forest\\t\\tNaïve_Bayes')\n",
    "print('--------------------')\n",
    "print('Precision\\t\\t'+\"%0.2f\" % precision_rf + \"\\t\\t\"+ \"%0.2f\" % precision_nb)\n",
    "print('Recall\\t\\t\\t'+\"%0.2f\" % recall_rf + \"\\t\\t\"+\"%0.2f\" % recall_nb )\n",
    "print('F1 score\\t\\t'+\"%0.2f\" % f1_score_rf + \"\\t\\t\"+\"%0.2f\" % f1_score_nb)\n",
    "\n"
   ]
  }
 ],
 "metadata": {
  "kernelspec": {
   "display_name": "Python 3",
   "language": "python",
   "name": "python3"
  },
  "language_info": {
   "codemirror_mode": {
    "name": "ipython",
    "version": 3
   },
   "file_extension": ".py",
   "mimetype": "text/x-python",
   "name": "python",
   "nbconvert_exporter": "python",
   "pygments_lexer": "ipython3",
   "version": "3.6.5"
  }
 },
 "nbformat": 4,
 "nbformat_minor": 2
}
