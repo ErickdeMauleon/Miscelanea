{
 "cells": [
  {
   "cell_type": "markdown",
   "metadata": {},
   "source": [
    "# Minería de Datos - Otoño 2018\n",
    "\n",
    "## Primer Parcial (para llevar)\n",
    "\n",
    "### Instrucciones de entrega \n",
    "\n",
    "Si elegiste esta versión del examen, se debe enviar un correo a `isimoninw@gmail.com` con este notebook a más tardar a las 11:59 pm del domingo 14 de octubre. Si se recibe el correo después de esta hora no se contará, así que es mejor enviar lo que se tenga antes de esta hora a intentar terminar.\n",
    "\n",
    "El asunto del correo debe ser:\n",
    "\"Examen - Clave Única - Nombre completo\"\n",
    "\n",
    "> Ejemplo:\n",
    "\n",
    "> Asunto: Examen - 100020 - Fulanito de Tal\n",
    "\n",
    "El **nombre** del archivo contenido en el correo debe tener el formato `claveunica_nombre_apellidos.ipynb`\n",
    "\n",
    "Cualquier desviación de estas indicaciones será motivo de disminución de puntaje.\n",
    "\n",
    "### ¿Cómo contestar?\n",
    "\n",
    "Siéntete libre de hacer más celdas cuando sean necesarias, pero intenta hacer el código/texto lo más legible posible.\n",
    "\n",
    "El resultado final de este notebook debe ser un reporte autocontenido y comprensible. Sé lo más claro posible en tus explicaciones y justificaciones."
   ]
  },
  {
   "cell_type": "markdown",
   "metadata": {},
   "source": [
    "### Los Datos\n",
    "\n",
    "Los datos usados durante este examen consisten en una colección de mensajes de texto (SMS) etiquetados como spam o no spam (ham).\n",
    "\n",
    "La diferencia entre la versión en clase y esta versión del examen es que se extraerán distintas variables del texto antes de contestar las preguntas.\n",
    "\n",
    "Por esto, en la carpeta datos/ encontrarás el archivo `spam.csv` con los datos crudos."
   ]
  },
  {
   "cell_type": "markdown",
   "metadata": {},
   "source": [
    "## Parte 1: Preprocesamiento\n",
    "\n",
    "Para esta parte, puedes usar como guía la documentación de sklearn para [trabajar con texto](http://scikit-learn.org/stable/tutorial/text_analytics/working_with_text_data.html).\n",
    "\n",
    "### 1.1 Separar en entrenamiento y prueba\n",
    "### 1.2 Crear un codificador de texto a matriz usando [Bag of Words](https://en.wikipedia.org/wiki/Bag-of-words_model) con los datos de entrenamiento\n",
    "### 1.3 Crear un codificador de texto a matriz usando [TF-IDF](https://en.wikipedia.org/wiki/Tf%E2%80%93idf) con los datos de entrenamiento\n",
    "### 1.4 Transformar los datos usando los codificadores, creando 4 matrices de variables: X_bow_train, X_bow_test, X_tfidf_train, X_tfidf_test\n",
    "### 1.5 ¿Por qué es importante crear los codificadores usando solo el conjunto de entrenamiento?\n",
    "### 1.6 ¿Las clases están balanceadas? ¿Cuál es la proporción de spam que hay en los datos?"
   ]
  },
  {
   "cell_type": "code",
   "execution_count": 1,
   "metadata": {},
   "outputs": [],
   "source": [
    "# Cargar librerias\n",
    "import pandas as pd\n",
    "import numpy as np\n",
    "from sklearn.naive_bayes import MultinomialNB, GaussianNB\n",
    "from sklearn.metrics import confusion_matrix, f1_score\n",
    "from sklearn.model_selection import GridSearchCV\n",
    "from sklearn.ensemble import RandomForestClassifier\n",
    "from sklearn.feature_extraction.text import CountVectorizer\n",
    "from sklearn.model_selection import train_test_split\n",
    "from sklearn.feature_extraction.text import TfidfVectorizer\n",
    "from sklearn.linear_model import Lasso\n",
    "import matplotlib.pyplot as plt"
   ]
  },
  {
   "cell_type": "markdown",
   "metadata": {},
   "source": [
    "Cambié el archivo de datos por un txt guardado con encoding UTF-8 porque no leía el .csv por errores de encoding, vamos a cargar los datos en un DataFrame **spam**"
   ]
  },
  {
   "cell_type": "code",
   "execution_count": 2,
   "metadata": {},
   "outputs": [
    {
     "data": {
      "text/html": [
       "<div>\n",
       "<style scoped>\n",
       "    .dataframe tbody tr th:only-of-type {\n",
       "        vertical-align: middle;\n",
       "    }\n",
       "\n",
       "    .dataframe tbody tr th {\n",
       "        vertical-align: top;\n",
       "    }\n",
       "\n",
       "    .dataframe thead th {\n",
       "        text-align: right;\n",
       "    }\n",
       "</style>\n",
       "<table border=\"1\" class=\"dataframe\">\n",
       "  <thead>\n",
       "    <tr style=\"text-align: right;\">\n",
       "      <th></th>\n",
       "      <th>v1</th>\n",
       "      <th>v2</th>\n",
       "      <th>Unnamed: 2</th>\n",
       "      <th>Unnamed: 3</th>\n",
       "      <th>Unnamed: 4</th>\n",
       "    </tr>\n",
       "  </thead>\n",
       "  <tbody>\n",
       "    <tr>\n",
       "      <th>0</th>\n",
       "      <td>ham</td>\n",
       "      <td>Go until jurong point, crazy.. Available only ...</td>\n",
       "      <td>NaN</td>\n",
       "      <td>NaN</td>\n",
       "      <td>NaN</td>\n",
       "    </tr>\n",
       "    <tr>\n",
       "      <th>1</th>\n",
       "      <td>ham</td>\n",
       "      <td>Ok lar... Joking wif u oni...</td>\n",
       "      <td>NaN</td>\n",
       "      <td>NaN</td>\n",
       "      <td>NaN</td>\n",
       "    </tr>\n",
       "    <tr>\n",
       "      <th>2</th>\n",
       "      <td>spam</td>\n",
       "      <td>Free entry in 2 a wkly comp to win FA Cup fina...</td>\n",
       "      <td>NaN</td>\n",
       "      <td>NaN</td>\n",
       "      <td>NaN</td>\n",
       "    </tr>\n",
       "    <tr>\n",
       "      <th>3</th>\n",
       "      <td>ham</td>\n",
       "      <td>U dun say so early hor... U c already then say...</td>\n",
       "      <td>NaN</td>\n",
       "      <td>NaN</td>\n",
       "      <td>NaN</td>\n",
       "    </tr>\n",
       "    <tr>\n",
       "      <th>4</th>\n",
       "      <td>ham</td>\n",
       "      <td>Nah I don't think he goes to usf, he lives aro...</td>\n",
       "      <td>NaN</td>\n",
       "      <td>NaN</td>\n",
       "      <td>NaN</td>\n",
       "    </tr>\n",
       "  </tbody>\n",
       "</table>\n",
       "</div>"
      ],
      "text/plain": [
       "     v1                                                 v2 Unnamed: 2  \\\n",
       "0   ham  Go until jurong point, crazy.. Available only ...        NaN   \n",
       "1   ham                      Ok lar... Joking wif u oni...        NaN   \n",
       "2  spam  Free entry in 2 a wkly comp to win FA Cup fina...        NaN   \n",
       "3   ham  U dun say so early hor... U c already then say...        NaN   \n",
       "4   ham  Nah I don't think he goes to usf, he lives aro...        NaN   \n",
       "\n",
       "  Unnamed: 3 Unnamed: 4  \n",
       "0        NaN        NaN  \n",
       "1        NaN        NaN  \n",
       "2        NaN        NaN  \n",
       "3        NaN        NaN  \n",
       "4        NaN        NaN  "
      ]
     },
     "execution_count": 2,
     "metadata": {},
     "output_type": "execute_result"
    }
   ],
   "source": [
    "spam = pd.read_csv('spam_utf8.txt', encoding='utf-8')\n",
    "spam.head()"
   ]
  },
  {
   "cell_type": "markdown",
   "metadata": {},
   "source": [
    "Observamos que hay 3 variables sin nombre que se deben a emails que ocupan más de una celda, vamos a concatenar todas las variables en una sola y por mera comodidad se codificará la variable respuesta, **v1**, como 0:= ham, 1:= spam"
   ]
  },
  {
   "cell_type": "code",
   "execution_count": 3,
   "metadata": {},
   "outputs": [
    {
     "data": {
      "text/html": [
       "<div>\n",
       "<style scoped>\n",
       "    .dataframe tbody tr th:only-of-type {\n",
       "        vertical-align: middle;\n",
       "    }\n",
       "\n",
       "    .dataframe tbody tr th {\n",
       "        vertical-align: top;\n",
       "    }\n",
       "\n",
       "    .dataframe thead th {\n",
       "        text-align: right;\n",
       "    }\n",
       "</style>\n",
       "<table border=\"1\" class=\"dataframe\">\n",
       "  <thead>\n",
       "    <tr style=\"text-align: right;\">\n",
       "      <th></th>\n",
       "      <th>v3</th>\n",
       "      <th>target</th>\n",
       "    </tr>\n",
       "  </thead>\n",
       "  <tbody>\n",
       "    <tr>\n",
       "      <th>0</th>\n",
       "      <td>Go until jurong point, crazy.. Available only ...</td>\n",
       "      <td>0</td>\n",
       "    </tr>\n",
       "    <tr>\n",
       "      <th>1</th>\n",
       "      <td>Ok lar... Joking wif u oni...</td>\n",
       "      <td>0</td>\n",
       "    </tr>\n",
       "    <tr>\n",
       "      <th>2</th>\n",
       "      <td>Free entry in 2 a wkly comp to win FA Cup fina...</td>\n",
       "      <td>1</td>\n",
       "    </tr>\n",
       "    <tr>\n",
       "      <th>3</th>\n",
       "      <td>U dun say so early hor... U c already then say...</td>\n",
       "      <td>0</td>\n",
       "    </tr>\n",
       "    <tr>\n",
       "      <th>4</th>\n",
       "      <td>Nah I don't think he goes to usf, he lives aro...</td>\n",
       "      <td>0</td>\n",
       "    </tr>\n",
       "  </tbody>\n",
       "</table>\n",
       "</div>"
      ],
      "text/plain": [
       "                                                  v3  target\n",
       "0  Go until jurong point, crazy.. Available only ...       0\n",
       "1                      Ok lar... Joking wif u oni...       0\n",
       "2  Free entry in 2 a wkly comp to win FA Cup fina...       1\n",
       "3  U dun say so early hor... U c already then say...       0\n",
       "4  Nah I don't think he goes to usf, he lives aro...       0"
      ]
     },
     "execution_count": 3,
     "metadata": {},
     "output_type": "execute_result"
    }
   ],
   "source": [
    "spam.fillna(value='', axis=1, inplace=True)\n",
    "spam['v3'] = spam.v2 + spam['Unnamed: 2'] + spam['Unnamed: 3'] + spam['Unnamed: 4']\n",
    "spam['target'] = spam.v1.map(lambda x: 1 if x == 'spam' else 0)\n",
    "spam = spam.drop(['Unnamed: 2', 'Unnamed: 3', 'Unnamed: 4', 'v2', 'v1'], axis = 1)\n",
    "spam.head()"
   ]
  },
  {
   "cell_type": "markdown",
   "metadata": {},
   "source": [
    "Como se nos pide, vamos a separar los datos en entrenamiento y prueba"
   ]
  },
  {
   "cell_type": "code",
   "execution_count": 4,
   "metadata": {},
   "outputs": [],
   "source": [
    "X_train, X_test, y_train, y_test = train_test_split(\n",
    "    spam.v3, # X\n",
    "    spam.target,  # y\n",
    "    test_size=0.4, # porcentaje que será prueba\n",
    "    random_state=42) # para fijar el aleatorio (reproducibilidad)"
   ]
  },
  {
   "cell_type": "markdown",
   "metadata": {},
   "source": [
    "Codificaremos los datos de entrenamiento usando el modelo *bag of words*:"
   ]
  },
  {
   "cell_type": "code",
   "execution_count": 5,
   "metadata": {},
   "outputs": [],
   "source": [
    "Vectorizer = CountVectorizer()\n",
    "Vectorizer.fit(X_train)\n",
    "X_bow_train = pd.DataFrame(Vectorizer.transform(X_train).toarray(), \n",
    "                         columns=Vectorizer.get_feature_names())\n",
    "X_bow_test = pd.DataFrame(Vectorizer.transform(X_test).toarray(), \n",
    "                         columns=Vectorizer.get_feature_names())"
   ]
  },
  {
   "cell_type": "markdown",
   "metadata": {},
   "source": [
    "Sigamos con codificar con el método *TF-IDF*:"
   ]
  },
  {
   "cell_type": "code",
   "execution_count": 6,
   "metadata": {},
   "outputs": [],
   "source": [
    "tf_transformer = TfidfVectorizer()\n",
    "tf_transformer.fit(X_train)\n",
    "\n",
    "X_tfidf_train = tf_transformer.transform(X_train)\n",
    "X_tfidf_train = pd.DataFrame(X_tfidf_train.toarray(), \n",
    "                             columns=tf_transformer.get_feature_names())\n",
    "\n",
    "X_tfidf_test = tf_transformer.transform(X_test)\n",
    "X_tfidf_test = pd.DataFrame(X_tfidf_test.toarray(), \n",
    "                            columns=tf_transformer.get_feature_names())"
   ]
  },
  {
   "cell_type": "markdown",
   "metadata": {},
   "source": [
    "Aprovechemos este punto para observar que ambos métodos **fit()** reciben como parámetro los datos separados para entrenamiento, pues lo que haremos es contar repeticiones de cada palabra por cada renglón y no debemos usar los de prueba, pues sería como hacer trampa, estaríamos calificando palabras que no conocemos aún.\n",
    "\n",
    "Veamos si las clases están balanceadas:"
   ]
  },
  {
   "cell_type": "code",
   "execution_count": 7,
   "metadata": {},
   "outputs": [
    {
     "data": {
      "text/plain": [
       "0    0.865937\n",
       "1    0.134063\n",
       "Name: target, dtype: float64"
      ]
     },
     "execution_count": 7,
     "metadata": {},
     "output_type": "execute_result"
    }
   ],
   "source": [
    "spam.target.value_counts(normalize=True)"
   ]
  },
  {
   "cell_type": "markdown",
   "metadata": {},
   "source": [
    "Tenemos sólo el 13% de éxitos, mensaje spam, por tanto no está balanceado el problema"
   ]
  },
  {
   "cell_type": "markdown",
   "metadata": {},
   "source": [
    "## Parte 2: Bag of Words"
   ]
  },
  {
   "cell_type": "markdown",
   "metadata": {},
   "source": [
    "### 2.1 Scikit-learn tiene los clasificadores Naive Bayes: MultinomialNB, BernoulliNB, and GaussianNB. ¿Cuál(es) podrían modelar estos datos y por qué?"
   ]
  },
  {
   "cell_type": "markdown",
   "metadata": {},
   "source": [
    "### 2.2 Entrena un modelo Naive Bayes (usando la versión de NB que te parezca adecuada) para clasificar si es o no spam un mensaje."
   ]
  },
  {
   "cell_type": "markdown",
   "metadata": {},
   "source": [
    "### 2.3 Entrena un Random Forest para clasificar si es o no spam un mensaje. Usa Cross Validation para optimizar al menos un hiperparámetro y muestra cuál es el mejor valor para ese parámetro."
   ]
  },
  {
   "cell_type": "markdown",
   "metadata": {},
   "source": [
    "Podemos usar el modelo Naive Bayes Multinomial porque estamos considerando conteos para cada palabra, por tanto vamos a entrenar los modelos:"
   ]
  },
  {
   "cell_type": "code",
   "execution_count": 8,
   "metadata": {},
   "outputs": [
    {
     "name": "stdout",
     "output_type": "stream",
     "text": [
      "Fitting 3 folds for each of 5 candidates, totalling 15 fits\n"
     ]
    },
    {
     "name": "stderr",
     "output_type": "stream",
     "text": [
      "[Parallel(n_jobs=-1)]: Done   5 tasks      | elapsed:   12.5s\n",
      "[Parallel(n_jobs=-1)]: Done  10 out of  15 | elapsed:   25.2s remaining:   12.6s\n",
      "[Parallel(n_jobs=-1)]: Done  12 out of  15 | elapsed:   32.9s remaining:    8.1s\n",
      "[Parallel(n_jobs=-1)]: Done  15 out of  15 | elapsed:   39.3s finished\n"
     ]
    },
    {
     "data": {
      "text/plain": [
       "GridSearchCV(cv=None, error_score='raise',\n",
       "       estimator=RandomForestClassifier(bootstrap=True, class_weight=None, criterion='gini',\n",
       "            max_depth=None, max_features='auto', max_leaf_nodes=None,\n",
       "            min_impurity_decrease=0.0, min_impurity_split=None,\n",
       "            min_samples_leaf=1, min_samples_split=2,\n",
       "            min_weight_fraction_leaf=0.0, n_estimators=10, n_jobs=1,\n",
       "            oob_score=False, random_state=None, verbose=0,\n",
       "            warm_start=False),\n",
       "       fit_params=None, iid=True, n_jobs=-1,\n",
       "       param_grid={'n_estimators': [50, 75, 100, 125, 150]},\n",
       "       pre_dispatch='2*n_jobs', refit=True, return_train_score='warn',\n",
       "       scoring='f1_micro', verbose=10)"
      ]
     },
     "execution_count": 8,
     "metadata": {},
     "output_type": "execute_result"
    }
   ],
   "source": [
    "nb = MultinomialNB(fit_prior=False).fit(X_bow_train, y_train)\n",
    "grid_parametros = {'n_estimators': [50, 75, 100, 125, 150]}\n",
    "\n",
    "rf_cv = GridSearchCV(RandomForestClassifier(), grid_parametros,\n",
    "                    verbose=10, n_jobs=-1, scoring='f1_micro')\n",
    "\n",
    "rf_cv.fit(X_bow_train, y_train)\n"
   ]
  },
  {
   "cell_type": "markdown",
   "metadata": {},
   "source": [
    "Lo cual nos otorga las siguientes métricas:"
   ]
  },
  {
   "cell_type": "code",
   "execution_count": 9,
   "metadata": {},
   "outputs": [
    {
     "data": {
      "text/html": [
       "<div>\n",
       "<style scoped>\n",
       "    .dataframe tbody tr th:only-of-type {\n",
       "        vertical-align: middle;\n",
       "    }\n",
       "\n",
       "    .dataframe tbody tr th {\n",
       "        vertical-align: top;\n",
       "    }\n",
       "\n",
       "    .dataframe thead th {\n",
       "        text-align: right;\n",
       "    }\n",
       "</style>\n",
       "<table border=\"1\" class=\"dataframe\">\n",
       "  <thead>\n",
       "    <tr style=\"text-align: right;\">\n",
       "      <th></th>\n",
       "      <th>Codificador</th>\n",
       "      <th>Modelo</th>\n",
       "      <th>Precision</th>\n",
       "      <th>Recall</th>\n",
       "      <th>F1_score</th>\n",
       "    </tr>\n",
       "  </thead>\n",
       "  <tbody>\n",
       "    <tr>\n",
       "      <th>0</th>\n",
       "      <td>Bag of words</td>\n",
       "      <td>Random Forest</td>\n",
       "      <td>1.000000</td>\n",
       "      <td>0.826087</td>\n",
       "      <td>0.904762</td>\n",
       "    </tr>\n",
       "    <tr>\n",
       "      <th>1</th>\n",
       "      <td>Bag of words</td>\n",
       "      <td>Naive Bayes</td>\n",
       "      <td>0.896104</td>\n",
       "      <td>0.923077</td>\n",
       "      <td>0.909390</td>\n",
       "    </tr>\n",
       "  </tbody>\n",
       "</table>\n",
       "</div>"
      ],
      "text/plain": [
       "    Codificador         Modelo  Precision    Recall  F1_score\n",
       "0  Bag of words  Random Forest   1.000000  0.826087  0.904762\n",
       "1  Bag of words    Naive Bayes   0.896104  0.923077  0.909390"
      ]
     },
     "execution_count": 9,
     "metadata": {},
     "output_type": "execute_result"
    }
   ],
   "source": [
    "y_test = pd.DataFrame(list(y_test), columns=['target'])\n",
    "y_test['pred_bow_rf'] = rf_cv.predict(X_bow_test)\n",
    "y_test['pred_bow_nb'] = nb.predict(X_bow_test)\n",
    "predicted_proba = {}\n",
    "predicted_proba['bow_nb'] = nb.predict_proba(X_bow_test)\n",
    "predicted_proba['bow_rf'] = rf_cv.predict_proba(X_bow_test)\n",
    "rf_cm = confusion_matrix(y_test.target, y_test.pred_bow_rf)\n",
    "nb_cm = confusion_matrix(y_test.target,  y_test.pred_bow_nb)\n",
    "\n",
    "TP = rf_cm[1][1]\n",
    "TN = rf_cm[0][0]\n",
    "FP = rf_cm[0][1]\n",
    "FN = rf_cm[1][0]\n",
    "\n",
    "precision_rf = TP / (TP + FP)\n",
    "recall_rf = TP / (TP + FN)\n",
    "f1_score_rf = 2 * precision_rf * recall_rf / (precision_rf + recall_rf)\n",
    "\n",
    "\n",
    "TP = nb_cm[1][1]\n",
    "TN = nb_cm[0][0]\n",
    "FP = nb_cm[0][1]\n",
    "FN = nb_cm[1][0]\n",
    "\n",
    "precision_nb = TP / (TP + FP)\n",
    "recall_nb = TP / (TP + FN)\n",
    "f1_score_nb = 2 * precision_nb * recall_nb / (precision_nb + recall_nb)\n",
    "\n",
    "df_final = pd.DataFrame({'Codificador' : ['Bag of words', 'Bag of words'],\n",
    "                         'Modelo': ['Random Forest', 'Naive Bayes'],\n",
    "                         'Precision': [precision_rf, precision_nb],\n",
    "                         'Recall': [recall_rf, recall_nb],\n",
    "                         'F1_score': [f1_score_rf, f1_score_nb]})\n",
    "df_final"
   ]
  },
  {
   "cell_type": "markdown",
   "metadata": {},
   "source": [
    "## Parte 3: TF-IDF"
   ]
  },
  {
   "cell_type": "markdown",
   "metadata": {},
   "source": [
    "### 3.1 Intenta superar la predicción de Bag of Words usando los datos transformados a través de TF-IDF"
   ]
  },
  {
   "cell_type": "markdown",
   "metadata": {},
   "source": [
    "Vamos a entrenar los modelos Random Forest y Naive Bayes con los datos codificados por *TF-IDF*"
   ]
  },
  {
   "cell_type": "code",
   "execution_count": 10,
   "metadata": {},
   "outputs": [
    {
     "name": "stdout",
     "output_type": "stream",
     "text": [
      "Fitting 3 folds for each of 5 candidates, totalling 15 fits\n"
     ]
    },
    {
     "name": "stderr",
     "output_type": "stream",
     "text": [
      "[Parallel(n_jobs=-1)]: Done   5 tasks      | elapsed:   13.1s\n",
      "[Parallel(n_jobs=-1)]: Done  10 out of  15 | elapsed:   25.9s remaining:   12.9s\n",
      "[Parallel(n_jobs=-1)]: Done  12 out of  15 | elapsed:   32.6s remaining:    8.1s\n",
      "[Parallel(n_jobs=-1)]: Done  15 out of  15 | elapsed:   38.9s finished\n"
     ]
    },
    {
     "data": {
      "text/plain": [
       "GridSearchCV(cv=None, error_score='raise',\n",
       "       estimator=RandomForestClassifier(bootstrap=True, class_weight=None, criterion='gini',\n",
       "            max_depth=None, max_features='auto', max_leaf_nodes=None,\n",
       "            min_impurity_decrease=0.0, min_impurity_split=None,\n",
       "            min_samples_leaf=1, min_samples_split=2,\n",
       "            min_weight_fraction_leaf=0.0, n_estimators=10, n_jobs=1,\n",
       "            oob_score=False, random_state=None, verbose=0,\n",
       "            warm_start=False),\n",
       "       fit_params=None, iid=True, n_jobs=-1,\n",
       "       param_grid={'n_estimators': [50, 75, 100, 125, 150]},\n",
       "       pre_dispatch='2*n_jobs', refit=True, return_train_score='warn',\n",
       "       scoring='f1_micro', verbose=10)"
      ]
     },
     "execution_count": 10,
     "metadata": {},
     "output_type": "execute_result"
    }
   ],
   "source": [
    "nb = MultinomialNB(fit_prior=False).fit(X_tfidf_train, y_train)\n",
    "grid_parametros = {'n_estimators': [50, 75, 100, 125, 150]}\n",
    "\n",
    "rf_cv = GridSearchCV(RandomForestClassifier(), grid_parametros,\n",
    "                    verbose=10, n_jobs=-1, scoring='f1_micro')\n",
    "\n",
    "rf_cv.fit(X_tfidf_train, y_train)"
   ]
  },
  {
   "cell_type": "markdown",
   "metadata": {},
   "source": [
    "Análogamente, obtenemos las siguientes métricas:"
   ]
  },
  {
   "cell_type": "code",
   "execution_count": 11,
   "metadata": {},
   "outputs": [
    {
     "data": {
      "text/html": [
       "<div>\n",
       "<style scoped>\n",
       "    .dataframe tbody tr th:only-of-type {\n",
       "        vertical-align: middle;\n",
       "    }\n",
       "\n",
       "    .dataframe tbody tr th {\n",
       "        vertical-align: top;\n",
       "    }\n",
       "\n",
       "    .dataframe thead th {\n",
       "        text-align: right;\n",
       "    }\n",
       "</style>\n",
       "<table border=\"1\" class=\"dataframe\">\n",
       "  <thead>\n",
       "    <tr style=\"text-align: right;\">\n",
       "      <th></th>\n",
       "      <th>Codificador</th>\n",
       "      <th>Modelo</th>\n",
       "      <th>Precision</th>\n",
       "      <th>Recall</th>\n",
       "      <th>F1_score</th>\n",
       "    </tr>\n",
       "  </thead>\n",
       "  <tbody>\n",
       "    <tr>\n",
       "      <th>0</th>\n",
       "      <td>Bag of words</td>\n",
       "      <td>Random Forest</td>\n",
       "      <td>1.000000</td>\n",
       "      <td>0.826087</td>\n",
       "      <td>0.904762</td>\n",
       "    </tr>\n",
       "    <tr>\n",
       "      <th>1</th>\n",
       "      <td>Bag of words</td>\n",
       "      <td>Naive Bayes</td>\n",
       "      <td>0.896104</td>\n",
       "      <td>0.923077</td>\n",
       "      <td>0.909390</td>\n",
       "    </tr>\n",
       "    <tr>\n",
       "      <th>0</th>\n",
       "      <td>TF IDF</td>\n",
       "      <td>Random Forest</td>\n",
       "      <td>1.000000</td>\n",
       "      <td>0.809365</td>\n",
       "      <td>0.894640</td>\n",
       "    </tr>\n",
       "    <tr>\n",
       "      <th>1</th>\n",
       "      <td>TF IDF</td>\n",
       "      <td>Naive Bayes</td>\n",
       "      <td>0.952030</td>\n",
       "      <td>0.862876</td>\n",
       "      <td>0.905263</td>\n",
       "    </tr>\n",
       "  </tbody>\n",
       "</table>\n",
       "</div>"
      ],
      "text/plain": [
       "    Codificador         Modelo  Precision    Recall  F1_score\n",
       "0  Bag of words  Random Forest   1.000000  0.826087  0.904762\n",
       "1  Bag of words    Naive Bayes   0.896104  0.923077  0.909390\n",
       "0        TF IDF  Random Forest   1.000000  0.809365  0.894640\n",
       "1        TF IDF    Naive Bayes   0.952030  0.862876  0.905263"
      ]
     },
     "execution_count": 11,
     "metadata": {},
     "output_type": "execute_result"
    }
   ],
   "source": [
    "y_test['pred_tf_rf'] = rf_cv.predict(X_tfidf_test)\n",
    "y_test['pred_tf_nb'] = nb.predict(X_tfidf_test)\n",
    "predicted_proba['tf_rf'] = rf_cv.predict_proba(X_tfidf_test)\n",
    "predicted_proba['tf_nb'] = nb.predict_proba(X_tfidf_test)\n",
    "rf_cm = confusion_matrix(y_test.target, y_test.pred_tf_rf)\n",
    "nb_cm = confusion_matrix(y_test.target,  y_test.pred_tf_nb)\n",
    "\n",
    "TP = rf_cm[1][1]\n",
    "TN = rf_cm[0][0]\n",
    "FP = rf_cm[0][1]\n",
    "FN = rf_cm[1][0]\n",
    "\n",
    "\n",
    "precision_rf = TP / (TP + FP)\n",
    "recall_rf = TP / (TP + FN)\n",
    "f1_score_rf = 2 * precision_rf * recall_rf / (precision_rf + recall_rf)\n",
    "\n",
    "TP = nb_cm[1][1]\n",
    "TN = nb_cm[0][0]\n",
    "FP = nb_cm[0][1]\n",
    "FN = nb_cm[1][0]\n",
    "\n",
    "precision_nb = TP / (TP + FP)\n",
    "recall_nb = TP / (TP + FN)\n",
    "f1_score_nb = 2 * precision_nb * recall_nb / (precision_nb + recall_nb)\n",
    "\n",
    "df_final = df_final.append(pd.DataFrame({'Codificador' : ['TF IDF', 'TF IDF'],\n",
    "                         'Modelo': ['Random Forest', 'Naive Bayes'],\n",
    "                         'Precision': [precision_rf, precision_nb],\n",
    "                         'Recall': [recall_rf, recall_nb],\n",
    "                         'F1_score': [f1_score_rf, f1_score_nb]}))\n",
    "\n",
    "df_final"
   ]
  },
  {
   "cell_type": "markdown",
   "metadata": {},
   "source": [
    "Observamos una mejora en Random Forest, no así en Naive Bayes, para los datos codificados por *TF-IDF*, hagamos una selección de variables por regresión lasso para mejorarlo aún más"
   ]
  },
  {
   "cell_type": "code",
   "execution_count": 12,
   "metadata": {},
   "outputs": [
    {
     "name": "stderr",
     "output_type": "stream",
     "text": [
      "C:\\Users\\Erick Santillan\\AppData\\Local\\Continuum\\anaconda3\\lib\\site-packages\\sklearn\\linear_model\\coordinate_descent.py:491: ConvergenceWarning: Objective did not converge. You might want to increase the number of iterations. Fitting data with very small alpha may cause precision problems.\n",
      "  ConvergenceWarning)\n"
     ]
    },
    {
     "data": {
      "text/html": [
       "<div>\n",
       "<style scoped>\n",
       "    .dataframe tbody tr th:only-of-type {\n",
       "        vertical-align: middle;\n",
       "    }\n",
       "\n",
       "    .dataframe tbody tr th {\n",
       "        vertical-align: top;\n",
       "    }\n",
       "\n",
       "    .dataframe thead th {\n",
       "        text-align: right;\n",
       "    }\n",
       "</style>\n",
       "<table border=\"1\" class=\"dataframe\">\n",
       "  <thead>\n",
       "    <tr style=\"text-align: right;\">\n",
       "      <th></th>\n",
       "      <th>i</th>\n",
       "      <th>alpha</th>\n",
       "      <th>n var</th>\n",
       "      <th>f1 score</th>\n",
       "    </tr>\n",
       "  </thead>\n",
       "  <tbody>\n",
       "    <tr>\n",
       "      <th>0</th>\n",
       "      <td>8</td>\n",
       "      <td>3.906250e-03</td>\n",
       "      <td>2</td>\n",
       "      <td>0.334190</td>\n",
       "    </tr>\n",
       "    <tr>\n",
       "      <th>1</th>\n",
       "      <td>9</td>\n",
       "      <td>1.953125e-03</td>\n",
       "      <td>14</td>\n",
       "      <td>0.743961</td>\n",
       "    </tr>\n",
       "    <tr>\n",
       "      <th>2</th>\n",
       "      <td>10</td>\n",
       "      <td>9.765625e-04</td>\n",
       "      <td>32</td>\n",
       "      <td>0.748318</td>\n",
       "    </tr>\n",
       "    <tr>\n",
       "      <th>3</th>\n",
       "      <td>11</td>\n",
       "      <td>4.882812e-04</td>\n",
       "      <td>65</td>\n",
       "      <td>0.761905</td>\n",
       "    </tr>\n",
       "    <tr>\n",
       "      <th>4</th>\n",
       "      <td>12</td>\n",
       "      <td>2.441406e-04</td>\n",
       "      <td>125</td>\n",
       "      <td>0.817109</td>\n",
       "    </tr>\n",
       "    <tr>\n",
       "      <th>5</th>\n",
       "      <td>13</td>\n",
       "      <td>1.220703e-04</td>\n",
       "      <td>220</td>\n",
       "      <td>0.837070</td>\n",
       "    </tr>\n",
       "    <tr>\n",
       "      <th>6</th>\n",
       "      <td>14</td>\n",
       "      <td>6.103516e-05</td>\n",
       "      <td>399</td>\n",
       "      <td>0.836858</td>\n",
       "    </tr>\n",
       "    <tr>\n",
       "      <th>7</th>\n",
       "      <td>15</td>\n",
       "      <td>3.051758e-05</td>\n",
       "      <td>650</td>\n",
       "      <td>0.858476</td>\n",
       "    </tr>\n",
       "    <tr>\n",
       "      <th>8</th>\n",
       "      <td>16</td>\n",
       "      <td>1.525879e-05</td>\n",
       "      <td>942</td>\n",
       "      <td>0.868878</td>\n",
       "    </tr>\n",
       "    <tr>\n",
       "      <th>9</th>\n",
       "      <td>17</td>\n",
       "      <td>7.629395e-06</td>\n",
       "      <td>1152</td>\n",
       "      <td>0.877193</td>\n",
       "    </tr>\n",
       "    <tr>\n",
       "      <th>10</th>\n",
       "      <td>18</td>\n",
       "      <td>3.814697e-06</td>\n",
       "      <td>1261</td>\n",
       "      <td>0.875796</td>\n",
       "    </tr>\n",
       "    <tr>\n",
       "      <th>11</th>\n",
       "      <td>19</td>\n",
       "      <td>1.907349e-06</td>\n",
       "      <td>1374</td>\n",
       "      <td>0.881410</td>\n",
       "    </tr>\n",
       "    <tr>\n",
       "      <th>12</th>\n",
       "      <td>20</td>\n",
       "      <td>9.536743e-07</td>\n",
       "      <td>1463</td>\n",
       "      <td>0.881029</td>\n",
       "    </tr>\n",
       "    <tr>\n",
       "      <th>13</th>\n",
       "      <td>21</td>\n",
       "      <td>4.768372e-07</td>\n",
       "      <td>1546</td>\n",
       "      <td>0.883871</td>\n",
       "    </tr>\n",
       "    <tr>\n",
       "      <th>14</th>\n",
       "      <td>22</td>\n",
       "      <td>2.384186e-07</td>\n",
       "      <td>1693</td>\n",
       "      <td>0.888889</td>\n",
       "    </tr>\n",
       "    <tr>\n",
       "      <th>15</th>\n",
       "      <td>23</td>\n",
       "      <td>1.192093e-07</td>\n",
       "      <td>1959</td>\n",
       "      <td>0.884106</td>\n",
       "    </tr>\n",
       "    <tr>\n",
       "      <th>16</th>\n",
       "      <td>24</td>\n",
       "      <td>5.960464e-08</td>\n",
       "      <td>2306</td>\n",
       "      <td>0.907285</td>\n",
       "    </tr>\n",
       "    <tr>\n",
       "      <th>17</th>\n",
       "      <td>25</td>\n",
       "      <td>2.980232e-08</td>\n",
       "      <td>3081</td>\n",
       "      <td>0.896082</td>\n",
       "    </tr>\n",
       "    <tr>\n",
       "      <th>18</th>\n",
       "      <td>26</td>\n",
       "      <td>1.490116e-08</td>\n",
       "      <td>3913</td>\n",
       "      <td>0.910653</td>\n",
       "    </tr>\n",
       "    <tr>\n",
       "      <th>19</th>\n",
       "      <td>27</td>\n",
       "      <td>7.450581e-09</td>\n",
       "      <td>4522</td>\n",
       "      <td>0.909402</td>\n",
       "    </tr>\n",
       "    <tr>\n",
       "      <th>20</th>\n",
       "      <td>28</td>\n",
       "      <td>3.725290e-09</td>\n",
       "      <td>4934</td>\n",
       "      <td>0.902230</td>\n",
       "    </tr>\n",
       "    <tr>\n",
       "      <th>21</th>\n",
       "      <td>29</td>\n",
       "      <td>1.862645e-09</td>\n",
       "      <td>5733</td>\n",
       "      <td>0.900870</td>\n",
       "    </tr>\n",
       "  </tbody>\n",
       "</table>\n",
       "</div>"
      ],
      "text/plain": [
       "     i         alpha  n var  f1 score\n",
       "0    8  3.906250e-03      2  0.334190\n",
       "1    9  1.953125e-03     14  0.743961\n",
       "2   10  9.765625e-04     32  0.748318\n",
       "3   11  4.882812e-04     65  0.761905\n",
       "4   12  2.441406e-04    125  0.817109\n",
       "5   13  1.220703e-04    220  0.837070\n",
       "6   14  6.103516e-05    399  0.836858\n",
       "7   15  3.051758e-05    650  0.858476\n",
       "8   16  1.525879e-05    942  0.868878\n",
       "9   17  7.629395e-06   1152  0.877193\n",
       "10  18  3.814697e-06   1261  0.875796\n",
       "11  19  1.907349e-06   1374  0.881410\n",
       "12  20  9.536743e-07   1463  0.881029\n",
       "13  21  4.768372e-07   1546  0.883871\n",
       "14  22  2.384186e-07   1693  0.888889\n",
       "15  23  1.192093e-07   1959  0.884106\n",
       "16  24  5.960464e-08   2306  0.907285\n",
       "17  25  2.980232e-08   3081  0.896082\n",
       "18  26  1.490116e-08   3913  0.910653\n",
       "19  27  7.450581e-09   4522  0.909402\n",
       "20  28  3.725290e-09   4934  0.902230\n",
       "21  29  1.862645e-09   5733  0.900870"
      ]
     },
     "execution_count": 12,
     "metadata": {},
     "output_type": "execute_result"
    }
   ],
   "source": [
    "alpha_list = []\n",
    "n_var = []\n",
    "f1 = []\n",
    "i = 1\n",
    "best = 0\n",
    "for i in range(8,30,1):\n",
    "    coefs_lasso = []\n",
    "    alpha_list.append(1/(2**i))\n",
    "    lasso_a = Lasso(alpha=1/(2**i))\n",
    "    lasso_a.fit(X_tfidf_train, y_train)\n",
    "    coefs_lasso.append(lasso_a.coef_)\n",
    "    coefs = pd.DataFrame(coefs_lasso, columns=X_tfidf_train.columns)\n",
    "    to_keep = set(coefs.sum()[abs(coefs.sum()) > 0].index)\n",
    "    n_var.append(len(to_keep))\n",
    "    if len(to_keep) > 0:\n",
    "        to_drop = set(X_tfidf_train.columns) - to_keep\n",
    "        tmp_train = X_tfidf_train.drop(to_drop, axis=1)\n",
    "        tmp_test = X_tfidf_test.drop(to_drop, axis=1)\n",
    "        nb = MultinomialNB(fit_prior=False).fit(tmp_train, y_train)\n",
    "        pred = nb.predict(tmp_test)\n",
    "        f1_ = f1_score(y_test.target, pred)\n",
    "        f1.append(f1_)\n",
    "        if best < f1_:\n",
    "            best = f1_ * 1\n",
    "            best_pred = nb.predict(tmp_test)\n",
    "            best_prob = nb.predict_proba(tmp_test)\n",
    "    else:\n",
    "        f1.append(0)\n",
    "predicted_proba['nb_selec'] = best_prob\n",
    "y_test['nb_selec'] = best_pred\n",
    "results = pd.DataFrame({'i': list(range(8,30,1)),\n",
    "                        'alpha': alpha_list,\n",
    "                        'n var': n_var,\n",
    "                        'f1 score': f1})\n",
    "results"
   ]
  },
  {
   "cell_type": "markdown",
   "metadata": {},
   "source": [
    "Observemos que obtenemos una mejora del 91.5% de f1_score para Naive Bayes, vamos a graficar sus curvas ROC:"
   ]
  },
  {
   "cell_type": "markdown",
   "metadata": {},
   "source": [
    "## Parte 4: Wrap-up"
   ]
  },
  {
   "cell_type": "markdown",
   "metadata": {},
   "source": [
    "### 2.4 ¿Cuál de todos los modelos es mejor? Muestra la curva ROC y el f1 score para justificar tu decisión."
   ]
  },
  {
   "cell_type": "code",
   "execution_count": 17,
   "metadata": {},
   "outputs": [
    {
     "data": {
      "text/html": [
       "<div>\n",
       "<style scoped>\n",
       "    .dataframe tbody tr th:only-of-type {\n",
       "        vertical-align: middle;\n",
       "    }\n",
       "\n",
       "    .dataframe tbody tr th {\n",
       "        vertical-align: top;\n",
       "    }\n",
       "\n",
       "    .dataframe thead th {\n",
       "        text-align: right;\n",
       "    }\n",
       "</style>\n",
       "<table border=\"1\" class=\"dataframe\">\n",
       "  <thead>\n",
       "    <tr style=\"text-align: right;\">\n",
       "      <th></th>\n",
       "      <th>Codificador</th>\n",
       "      <th>Modelo</th>\n",
       "      <th>F1_score</th>\n",
       "    </tr>\n",
       "  </thead>\n",
       "  <tbody>\n",
       "    <tr>\n",
       "      <th>0</th>\n",
       "      <td>Bag of words</td>\n",
       "      <td>Random Forest</td>\n",
       "      <td>0.904762</td>\n",
       "    </tr>\n",
       "    <tr>\n",
       "      <th>1</th>\n",
       "      <td>Bag of words</td>\n",
       "      <td>Naive Bayes</td>\n",
       "      <td>0.909390</td>\n",
       "    </tr>\n",
       "    <tr>\n",
       "      <th>0</th>\n",
       "      <td>TF IDF</td>\n",
       "      <td>Random Forest</td>\n",
       "      <td>0.894640</td>\n",
       "    </tr>\n",
       "    <tr>\n",
       "      <th>1</th>\n",
       "      <td>TF IDF</td>\n",
       "      <td>Naive Bayes</td>\n",
       "      <td>0.905263</td>\n",
       "    </tr>\n",
       "    <tr>\n",
       "      <th>0</th>\n",
       "      <td>TF IDF</td>\n",
       "      <td>NB c/ seleccion</td>\n",
       "      <td>0.910653</td>\n",
       "    </tr>\n",
       "  </tbody>\n",
       "</table>\n",
       "</div>"
      ],
      "text/plain": [
       "    Codificador           Modelo  F1_score\n",
       "0  Bag of words    Random Forest  0.904762\n",
       "1  Bag of words      Naive Bayes  0.909390\n",
       "0        TF IDF    Random Forest  0.894640\n",
       "1        TF IDF      Naive Bayes  0.905263\n",
       "0        TF IDF  NB c/ seleccion  0.910653"
      ]
     },
     "execution_count": 17,
     "metadata": {},
     "output_type": "execute_result"
    }
   ],
   "source": [
    "(\n",
    "    df_final.\n",
    "    drop(['Precision', 'Recall'], axis=1).\n",
    "    append(pd.DataFrame({'Codificador': 'TF IDF', \n",
    "                         'Modelo': 'NB c/ seleccion', \n",
    "                         'F1_score': [best]}))\n",
    "          )"
   ]
  },
  {
   "cell_type": "markdown",
   "metadata": {},
   "source": [
    "El mejor método que se obtuvo fue Naive Bayes con un proceso de selección de variables, veamos la curva ROC:"
   ]
  },
  {
   "cell_type": "code",
   "execution_count": 21,
   "metadata": {},
   "outputs": [],
   "source": [
    "from sklearn.metrics import roc_curve, auc"
   ]
  },
  {
   "cell_type": "code",
   "execution_count": 32,
   "metadata": {},
   "outputs": [
    {
     "data": {
      "image/png": "[encoded data removed]",
      "text/plain": [
       "<Figure size 432x288 with 1 Axes>"
      ]
     },
     "metadata": {},
     "output_type": "display_data"
    }
   ],
   "source": [
    "plt.title('Receiver Operating Characteristic')\n",
    "modelos = ['pred_bow_rf', 'pred_bow_nb', 'pred_tf_rf', 'pred_tf_nb', 'nb_selec']\n",
    "colors = ['brown', 'darkgreen', 'orange', 'blue', 'red']\n",
    "for i in range(5):\n",
    "    if i < 4:\n",
    "        x = mod[5:]\n",
    "    mod = modelos[i]\n",
    "    probs = predicted_proba[x]\n",
    "    preds = probs[:,1]\n",
    "    fpr, tpr, threshold = roc_curve(y_test[mod], preds)\n",
    "    roc_auc = auc(fpr, tpr)\n",
    "    plt.plot(fpr, tpr, c = colors[i], label = mod + ' = %0.2f' % roc_auc)\n",
    "plt.legend(loc = 'lower right')\n",
    "plt.plot([0, 1], [0, 1],'k--')\n",
    "plt.xlim([0, 1])\n",
    "plt.ylim([0, 1])\n",
    "plt.ylabel('True Positive Rate')\n",
    "plt.xlabel('False Positive Rate')\n",
    "plt.show()"
   ]
  },
  {
   "cell_type": "markdown",
   "metadata": {},
   "source": [
    "Vemos en general un gran desempeño de todos los métodos y que ambos métodos con Random Forest se pegan más al eje y pero en general todos los métodos lo hacen muy rápido."
   ]
  }
 ],
 "metadata": {
  "kernelspec": {
   "display_name": "Python 3",
   "language": "python",
   "name": "python3"
  },
  "language_info": {
   "codemirror_mode": {
    "name": "ipython",
    "version": 3
   },
   "file_extension": ".py",
   "mimetype": "text/x-python",
   "name": "python",
   "nbconvert_exporter": "python",
   "pygments_lexer": "ipython3",
   "version": "3.6.5"
  }
 },
 "nbformat": 4,
 "nbformat_minor": 2
}
